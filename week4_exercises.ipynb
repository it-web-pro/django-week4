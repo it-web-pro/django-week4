{
 "cells": [
  {
   "cell_type": "markdown",
   "metadata": {},
   "source": [
    "# WEEK 4 Exercises - Making Queries\n",
    "\n",
    "![ERD-E-COMMERCE](https://github.com/it-web-pro/django-week3/blob/main/images/WEEK3-ERD(e-commerce).png?raw=true)"
   ]
  },
  {
   "cell_type": "code",
   "execution_count": null,
   "metadata": {},
   "outputs": [],
   "source": []
  }
 ],
 "metadata": {
  "language_info": {
   "name": "python"
  }
 },
 "nbformat": 4,
 "nbformat_minor": 2
}
